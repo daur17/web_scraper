{
 "cells": [
  {
   "cell_type": "markdown",
   "metadata": {},
   "source": [
    "## Series"
   ]
  },
  {
   "cell_type": "code",
   "execution_count": 1,
   "metadata": {},
   "outputs": [
    {
     "data": {
      "text/plain": [
       "0    100\n",
       "1    200\n",
       "2    300\n",
       "dtype: int64"
      ]
     },
     "execution_count": 1,
     "metadata": {},
     "output_type": "execute_result"
    }
   ],
   "source": [
    "import pandas as pd\n",
    "\n",
    "series_test = pd.Series([100, 200, 300])\n",
    "\n",
    "series_test"
   ]
  },
  {
   "cell_type": "code",
   "execution_count": 2,
   "metadata": {},
   "outputs": [
    {
     "data": {
      "text/plain": [
       "1999    48\n",
       "2000    65\n",
       "2001    89\n",
       "dtype: int64"
      ]
     },
     "execution_count": 2,
     "metadata": {},
     "output_type": "execute_result"
    }
   ],
   "source": [
    "series_test2 = pd.Series({1999: 48,\n",
    "                         2000: 65,\n",
    "                         2001: 89})\n",
    "\n",
    "series_test2"
   ]
  },
  {
   "cell_type": "markdown",
   "metadata": {},
   "source": [
    "## DataFrames"
   ]
  },
  {
   "cell_type": "code",
   "execution_count": 3,
   "metadata": {},
   "outputs": [
    {
     "data": {
      "text/html": [
       "<div>\n",
       "<style scoped>\n",
       "    .dataframe tbody tr th:only-of-type {\n",
       "        vertical-align: middle;\n",
       "    }\n",
       "\n",
       "    .dataframe tbody tr th {\n",
       "        vertical-align: top;\n",
       "    }\n",
       "\n",
       "    .dataframe thead th {\n",
       "        text-align: right;\n",
       "    }\n",
       "</style>\n",
       "<table border=\"1\" class=\"dataframe\">\n",
       "  <thead>\n",
       "    <tr style=\"text-align: right;\">\n",
       "      <th></th>\n",
       "      <th>1999</th>\n",
       "      <th>2000</th>\n",
       "      <th>2001</th>\n",
       "    </tr>\n",
       "  </thead>\n",
       "  <tbody>\n",
       "    <tr>\n",
       "      <th>0</th>\n",
       "      <td>74</td>\n",
       "      <td>34</td>\n",
       "      <td>23</td>\n",
       "    </tr>\n",
       "    <tr>\n",
       "      <th>1</th>\n",
       "      <td>388</td>\n",
       "      <td>32</td>\n",
       "      <td>39</td>\n",
       "    </tr>\n",
       "    <tr>\n",
       "      <th>2</th>\n",
       "      <td>39</td>\n",
       "      <td>32</td>\n",
       "      <td>23</td>\n",
       "    </tr>\n",
       "  </tbody>\n",
       "</table>\n",
       "</div>"
      ],
      "text/plain": [
       "   1999  2000  2001\n",
       "0    74    34    23\n",
       "1   388    32    39\n",
       "2    39    32    23"
      ]
     },
     "execution_count": 3,
     "metadata": {},
     "output_type": "execute_result"
    }
   ],
   "source": [
    "frame_test = pd.DataFrame({1999: [74, 388, 39],\n",
    "                          2000: [34, 32, 32],\n",
    "                          2001: [23, 39, 23]})\n",
    "\n",
    "frame_test"
   ]
  },
  {
   "cell_type": "code",
   "execution_count": 4,
   "metadata": {},
   "outputs": [
    {
     "data": {
      "text/html": [
       "<div>\n",
       "<style scoped>\n",
       "    .dataframe tbody tr th:only-of-type {\n",
       "        vertical-align: middle;\n",
       "    }\n",
       "\n",
       "    .dataframe tbody tr th {\n",
       "        vertical-align: top;\n",
       "    }\n",
       "\n",
       "    .dataframe thead th {\n",
       "        text-align: right;\n",
       "    }\n",
       "</style>\n",
       "<table border=\"1\" class=\"dataframe\">\n",
       "  <thead>\n",
       "    <tr style=\"text-align: right;\">\n",
       "      <th></th>\n",
       "      <th>1999</th>\n",
       "      <th>2000</th>\n",
       "      <th>2001</th>\n",
       "    </tr>\n",
       "  </thead>\n",
       "  <tbody>\n",
       "    <tr>\n",
       "      <th>a</th>\n",
       "      <td>74</td>\n",
       "      <td>388</td>\n",
       "      <td>39</td>\n",
       "    </tr>\n",
       "    <tr>\n",
       "      <th>b</th>\n",
       "      <td>34</td>\n",
       "      <td>32</td>\n",
       "      <td>32</td>\n",
       "    </tr>\n",
       "    <tr>\n",
       "      <th>c</th>\n",
       "      <td>23</td>\n",
       "      <td>39</td>\n",
       "      <td>23</td>\n",
       "    </tr>\n",
       "  </tbody>\n",
       "</table>\n",
       "</div>"
      ],
      "text/plain": [
       "   1999  2000  2001\n",
       "a    74   388    39\n",
       "b    34    32    32\n",
       "c    23    39    23"
      ]
     },
     "execution_count": 4,
     "metadata": {},
     "output_type": "execute_result"
    }
   ],
   "source": [
    "frame_test2 = pd.DataFrame([[74, 388, 39],\n",
    "                           [34, 32, 32],\n",
    "                           [23, 39, 23]], \n",
    "                           columns =[1999, 2000, 2001],\n",
    "                          index = ['a', 'b', 'c'])\n",
    "\n",
    "frame_test2"
   ]
  },
  {
   "cell_type": "markdown",
   "metadata": {},
   "source": [
    "## Read data"
   ]
  },
  {
   "cell_type": "code",
   "execution_count": 5,
   "metadata": {},
   "outputs": [
    {
     "data": {
      "text/html": [
       "<div>\n",
       "<style scoped>\n",
       "    .dataframe tbody tr th:only-of-type {\n",
       "        vertical-align: middle;\n",
       "    }\n",
       "\n",
       "    .dataframe tbody tr th {\n",
       "        vertical-align: top;\n",
       "    }\n",
       "\n",
       "    .dataframe thead th {\n",
       "        text-align: right;\n",
       "    }\n",
       "</style>\n",
       "<table border=\"1\" class=\"dataframe\">\n",
       "  <thead>\n",
       "    <tr style=\"text-align: right;\">\n",
       "      <th></th>\n",
       "      <th>body</th>\n",
       "      <th>title</th>\n",
       "      <th>url</th>\n",
       "    </tr>\n",
       "  </thead>\n",
       "  <tbody>\n",
       "    <tr>\n",
       "      <th>0</th>\n",
       "      <td>\\n\\n\\n\\n\\n\\n\\n\\n\\n\\n\\n\\n\\n\\n \\n\\n\\nCristhian R...</td>\n",
       "      <td>Recapturan a Cristhian Rodríguez, reo que esca...</td>\n",
       "      <td>https://www.prensalibre.com/ahora/guatemala/ju...</td>\n",
       "    </tr>\n",
       "    <tr>\n",
       "      <th>1</th>\n",
       "      <td>\\n\\n\\n\\n\\n\\n\\t\\t\\t\\t\\tUn soldado vigila un áre...</td>\n",
       "      <td>Pobladores de Santa Catarina Ixtahuacán bloque...</td>\n",
       "      <td>https://www.prensalibre.com/ciudades/solola/po...</td>\n",
       "    </tr>\n",
       "    <tr>\n",
       "      <th>2</th>\n",
       "      <td>\\n\\n\\n\\n\\n\\t\\t\\t\\t\\tMario Antonio Espinoza Jim...</td>\n",
       "      <td>Capturan a hombre con fines de extradición a E...</td>\n",
       "      <td>https://www.prensalibre.com/ahora/guatemala/ju...</td>\n",
       "    </tr>\n",
       "    <tr>\n",
       "      <th>3</th>\n",
       "      <td>\\n\\n\\n\\n\\n\\t\\t\\t\\t\\tPinabete decomisado en la ...</td>\n",
       "      <td>Decomisan ramillas de pinabete en la zona 11 d...</td>\n",
       "      <td>https://www.prensalibre.com/ahora/guatemala/ju...</td>\n",
       "    </tr>\n",
       "    <tr>\n",
       "      <th>4</th>\n",
       "      <td>\\n\\n\\n\\n\\n\\t\\t\\t\\t\\tLa vacunación contra el co...</td>\n",
       "      <td>El regulador europeo aprueba vacuna Novavax en...</td>\n",
       "      <td>https://www.prensalibre.com/ahora/internaciona...</td>\n",
       "    </tr>\n",
       "    <tr>\n",
       "      <th>5</th>\n",
       "      <td>\\n\\n\\n\\n\\n\\n\\n\\n\\n\\n\\n\\n\\n\\n \\n\\nPobladores de...</td>\n",
       "      <td>Pobladores bloquean paso en ruta Interamerican...</td>\n",
       "      <td>https://www.prensalibre.com/ahora/ciudades/sol...</td>\n",
       "    </tr>\n",
       "    <tr>\n",
       "      <th>6</th>\n",
       "      <td>\\n\\n\\n\\n\\n\\t\\t\\t\\t\\tChilean president-elect Ga...</td>\n",
       "      <td>Izquierdista Gabriel Boric será el próximo pre...</td>\n",
       "      <td>https://www.prensalibre.com/ahora/uncategorize...</td>\n",
       "    </tr>\n",
       "    <tr>\n",
       "      <th>7</th>\n",
       "      <td>\\n\\n\\n\\n\\n\\t\\t\\t\\t\\tBomberos controlan incendi...</td>\n",
       "      <td>Una persona fallecida en explosión en coheterí...</td>\n",
       "      <td>https://www.prensalibre.com/ahora/ciudades/gua...</td>\n",
       "    </tr>\n",
       "  </tbody>\n",
       "</table>\n",
       "</div>"
      ],
      "text/plain": [
       "                                                body  \\\n",
       "0  \\n\\n\\n\\n\\n\\n\\n\\n\\n\\n\\n\\n\\n\\n \\n\\n\\nCristhian R...   \n",
       "1  \\n\\n\\n\\n\\n\\n\\t\\t\\t\\t\\tUn soldado vigila un áre...   \n",
       "2  \\n\\n\\n\\n\\n\\t\\t\\t\\t\\tMario Antonio Espinoza Jim...   \n",
       "3  \\n\\n\\n\\n\\n\\t\\t\\t\\t\\tPinabete decomisado en la ...   \n",
       "4  \\n\\n\\n\\n\\n\\t\\t\\t\\t\\tLa vacunación contra el co...   \n",
       "5  \\n\\n\\n\\n\\n\\n\\n\\n\\n\\n\\n\\n\\n\\n \\n\\nPobladores de...   \n",
       "6  \\n\\n\\n\\n\\n\\t\\t\\t\\t\\tChilean president-elect Ga...   \n",
       "7  \\n\\n\\n\\n\\n\\t\\t\\t\\t\\tBomberos controlan incendi...   \n",
       "\n",
       "                                               title  \\\n",
       "0  Recapturan a Cristhian Rodríguez, reo que esca...   \n",
       "1  Pobladores de Santa Catarina Ixtahuacán bloque...   \n",
       "2  Capturan a hombre con fines de extradición a E...   \n",
       "3  Decomisan ramillas de pinabete en la zona 11 d...   \n",
       "4  El regulador europeo aprueba vacuna Novavax en...   \n",
       "5  Pobladores bloquean paso en ruta Interamerican...   \n",
       "6  Izquierdista Gabriel Boric será el próximo pre...   \n",
       "7  Una persona fallecida en explosión en coheterí...   \n",
       "\n",
       "                                                 url  \n",
       "0  https://www.prensalibre.com/ahora/guatemala/ju...  \n",
       "1  https://www.prensalibre.com/ciudades/solola/po...  \n",
       "2  https://www.prensalibre.com/ahora/guatemala/ju...  \n",
       "3  https://www.prensalibre.com/ahora/guatemala/ju...  \n",
       "4  https://www.prensalibre.com/ahora/internaciona...  \n",
       "5  https://www.prensalibre.com/ahora/ciudades/sol...  \n",
       "6  https://www.prensalibre.com/ahora/uncategorize...  \n",
       "7  https://www.prensalibre.com/ahora/ciudades/gua...  "
      ]
     },
     "execution_count": 5,
     "metadata": {},
     "output_type": "execute_result"
    }
   ],
   "source": [
    "pd.options.display.max_rows = 10\n",
    "\n",
    "newspaper = pd.read_csv('prensalibre_2021_12_20_articles.csv')\n",
    "\n",
    "newspaper"
   ]
  },
  {
   "cell_type": "markdown",
   "metadata": {},
   "source": [
    "## Index and selection"
   ]
  },
  {
   "cell_type": "code",
   "execution_count": 6,
   "metadata": {},
   "outputs": [
    {
     "data": {
      "text/plain": [
       "0    Recapturan a Cristhian Rodríguez, reo que esca...\n",
       "1    Pobladores de Santa Catarina Ixtahuacán bloque...\n",
       "2    Capturan a hombre con fines de extradición a E...\n",
       "3    Decomisan ramillas de pinabete en la zona 11 d...\n",
       "4    El regulador europeo aprueba vacuna Novavax en...\n",
       "5    Pobladores bloquean paso en ruta Interamerican...\n",
       "6    Izquierdista Gabriel Boric será el próximo pre...\n",
       "7    Una persona fallecida en explosión en coheterí...\n",
       "Name: title, dtype: object"
      ]
     },
     "execution_count": 6,
     "metadata": {},
     "output_type": "execute_result"
    }
   ],
   "source": [
    "# dictionary lik\n",
    "\n",
    "newspaper['title']"
   ]
  },
  {
   "cell_type": "code",
   "execution_count": 7,
   "metadata": {},
   "outputs": [
    {
     "data": {
      "text/html": [
       "<div>\n",
       "<style scoped>\n",
       "    .dataframe tbody tr th:only-of-type {\n",
       "        vertical-align: middle;\n",
       "    }\n",
       "\n",
       "    .dataframe tbody tr th {\n",
       "        vertical-align: top;\n",
       "    }\n",
       "\n",
       "    .dataframe thead th {\n",
       "        text-align: right;\n",
       "    }\n",
       "</style>\n",
       "<table border=\"1\" class=\"dataframe\">\n",
       "  <thead>\n",
       "    <tr style=\"text-align: right;\">\n",
       "      <th></th>\n",
       "      <th>title</th>\n",
       "      <th>url</th>\n",
       "    </tr>\n",
       "  </thead>\n",
       "  <tbody>\n",
       "    <tr>\n",
       "      <th>0</th>\n",
       "      <td>Recapturan a Cristhian Rodríguez, reo que esca...</td>\n",
       "      <td>https://www.prensalibre.com/ahora/guatemala/ju...</td>\n",
       "    </tr>\n",
       "    <tr>\n",
       "      <th>1</th>\n",
       "      <td>Pobladores de Santa Catarina Ixtahuacán bloque...</td>\n",
       "      <td>https://www.prensalibre.com/ciudades/solola/po...</td>\n",
       "    </tr>\n",
       "    <tr>\n",
       "      <th>2</th>\n",
       "      <td>Capturan a hombre con fines de extradición a E...</td>\n",
       "      <td>https://www.prensalibre.com/ahora/guatemala/ju...</td>\n",
       "    </tr>\n",
       "    <tr>\n",
       "      <th>3</th>\n",
       "      <td>Decomisan ramillas de pinabete en la zona 11 d...</td>\n",
       "      <td>https://www.prensalibre.com/ahora/guatemala/ju...</td>\n",
       "    </tr>\n",
       "    <tr>\n",
       "      <th>4</th>\n",
       "      <td>El regulador europeo aprueba vacuna Novavax en...</td>\n",
       "      <td>https://www.prensalibre.com/ahora/internaciona...</td>\n",
       "    </tr>\n",
       "    <tr>\n",
       "      <th>5</th>\n",
       "      <td>Pobladores bloquean paso en ruta Interamerican...</td>\n",
       "      <td>https://www.prensalibre.com/ahora/ciudades/sol...</td>\n",
       "    </tr>\n",
       "    <tr>\n",
       "      <th>6</th>\n",
       "      <td>Izquierdista Gabriel Boric será el próximo pre...</td>\n",
       "      <td>https://www.prensalibre.com/ahora/uncategorize...</td>\n",
       "    </tr>\n",
       "    <tr>\n",
       "      <th>7</th>\n",
       "      <td>Una persona fallecida en explosión en coheterí...</td>\n",
       "      <td>https://www.prensalibre.com/ahora/ciudades/gua...</td>\n",
       "    </tr>\n",
       "  </tbody>\n",
       "</table>\n",
       "</div>"
      ],
      "text/plain": [
       "                                               title  \\\n",
       "0  Recapturan a Cristhian Rodríguez, reo que esca...   \n",
       "1  Pobladores de Santa Catarina Ixtahuacán bloque...   \n",
       "2  Capturan a hombre con fines de extradición a E...   \n",
       "3  Decomisan ramillas de pinabete en la zona 11 d...   \n",
       "4  El regulador europeo aprueba vacuna Novavax en...   \n",
       "5  Pobladores bloquean paso en ruta Interamerican...   \n",
       "6  Izquierdista Gabriel Boric será el próximo pre...   \n",
       "7  Una persona fallecida en explosión en coheterí...   \n",
       "\n",
       "                                                 url  \n",
       "0  https://www.prensalibre.com/ahora/guatemala/ju...  \n",
       "1  https://www.prensalibre.com/ciudades/solola/po...  \n",
       "2  https://www.prensalibre.com/ahora/guatemala/ju...  \n",
       "3  https://www.prensalibre.com/ahora/guatemala/ju...  \n",
       "4  https://www.prensalibre.com/ahora/internaciona...  \n",
       "5  https://www.prensalibre.com/ahora/ciudades/sol...  \n",
       "6  https://www.prensalibre.com/ahora/uncategorize...  \n",
       "7  https://www.prensalibre.com/ahora/ciudades/gua...  "
      ]
     },
     "execution_count": 7,
     "metadata": {},
     "output_type": "execute_result"
    }
   ],
   "source": [
    "newspaper[['title', 'url']]"
   ]
  },
  {
   "cell_type": "code",
   "execution_count": 8,
   "metadata": {},
   "outputs": [
    {
     "data": {
      "text/html": [
       "<div>\n",
       "<style scoped>\n",
       "    .dataframe tbody tr th:only-of-type {\n",
       "        vertical-align: middle;\n",
       "    }\n",
       "\n",
       "    .dataframe tbody tr th {\n",
       "        vertical-align: top;\n",
       "    }\n",
       "\n",
       "    .dataframe thead th {\n",
       "        text-align: right;\n",
       "    }\n",
       "</style>\n",
       "<table border=\"1\" class=\"dataframe\">\n",
       "  <thead>\n",
       "    <tr style=\"text-align: right;\">\n",
       "      <th></th>\n",
       "      <th>body</th>\n",
       "      <th>title</th>\n",
       "      <th>url</th>\n",
       "    </tr>\n",
       "  </thead>\n",
       "  <tbody>\n",
       "    <tr>\n",
       "      <th>5</th>\n",
       "      <td>\\n\\n\\n\\n\\n\\n\\n\\n\\n\\n\\n\\n\\n\\n \\n\\nPobladores de...</td>\n",
       "      <td>Pobladores bloquean paso en ruta Interamerican...</td>\n",
       "      <td>https://www.prensalibre.com/ahora/ciudades/sol...</td>\n",
       "    </tr>\n",
       "    <tr>\n",
       "      <th>6</th>\n",
       "      <td>\\n\\n\\n\\n\\n\\t\\t\\t\\t\\tChilean president-elect Ga...</td>\n",
       "      <td>Izquierdista Gabriel Boric será el próximo pre...</td>\n",
       "      <td>https://www.prensalibre.com/ahora/uncategorize...</td>\n",
       "    </tr>\n",
       "  </tbody>\n",
       "</table>\n",
       "</div>"
      ],
      "text/plain": [
       "                                                body  \\\n",
       "5  \\n\\n\\n\\n\\n\\n\\n\\n\\n\\n\\n\\n\\n\\n \\n\\nPobladores de...   \n",
       "6  \\n\\n\\n\\n\\n\\t\\t\\t\\t\\tChilean president-elect Ga...   \n",
       "\n",
       "                                               title  \\\n",
       "5  Pobladores bloquean paso en ruta Interamerican...   \n",
       "6  Izquierdista Gabriel Boric será el próximo pre...   \n",
       "\n",
       "                                                 url  \n",
       "5  https://www.prensalibre.com/ahora/ciudades/sol...  \n",
       "6  https://www.prensalibre.com/ahora/uncategorize...  "
      ]
     },
     "execution_count": 8,
     "metadata": {},
     "output_type": "execute_result"
    }
   ],
   "source": [
    "# Numpy like\n",
    "\n",
    "newspaper.iloc[5:7]"
   ]
  },
  {
   "cell_type": "code",
   "execution_count": 9,
   "metadata": {},
   "outputs": [
    {
     "data": {
      "text/plain": [
       "'Una persona fallecida en explosión en cohetería en Mixco'"
      ]
     },
     "execution_count": 9,
     "metadata": {},
     "output_type": "execute_result"
    }
   ],
   "source": [
    "newspaper.iloc[7]['title']"
   ]
  },
  {
   "cell_type": "code",
   "execution_count": 10,
   "metadata": {},
   "outputs": [
    {
     "data": {
      "text/html": [
       "<div>\n",
       "<style scoped>\n",
       "    .dataframe tbody tr th:only-of-type {\n",
       "        vertical-align: middle;\n",
       "    }\n",
       "\n",
       "    .dataframe tbody tr th {\n",
       "        vertical-align: top;\n",
       "    }\n",
       "\n",
       "    .dataframe thead th {\n",
       "        text-align: right;\n",
       "    }\n",
       "</style>\n",
       "<table border=\"1\" class=\"dataframe\">\n",
       "  <thead>\n",
       "    <tr style=\"text-align: right;\">\n",
       "      <th></th>\n",
       "      <th>body</th>\n",
       "      <th>title</th>\n",
       "    </tr>\n",
       "  </thead>\n",
       "  <tbody>\n",
       "    <tr>\n",
       "      <th>0</th>\n",
       "      <td>\\n\\n\\n\\n\\n\\n\\n\\n\\n\\n\\n\\n\\n\\n \\n\\n\\nCristhian R...</td>\n",
       "      <td>Recapturan a Cristhian Rodríguez, reo que esca...</td>\n",
       "    </tr>\n",
       "    <tr>\n",
       "      <th>1</th>\n",
       "      <td>\\n\\n\\n\\n\\n\\n\\t\\t\\t\\t\\tUn soldado vigila un áre...</td>\n",
       "      <td>Pobladores de Santa Catarina Ixtahuacán bloque...</td>\n",
       "    </tr>\n",
       "    <tr>\n",
       "      <th>2</th>\n",
       "      <td>\\n\\n\\n\\n\\n\\t\\t\\t\\t\\tMario Antonio Espinoza Jim...</td>\n",
       "      <td>Capturan a hombre con fines de extradición a E...</td>\n",
       "    </tr>\n",
       "    <tr>\n",
       "      <th>3</th>\n",
       "      <td>\\n\\n\\n\\n\\n\\t\\t\\t\\t\\tPinabete decomisado en la ...</td>\n",
       "      <td>Decomisan ramillas de pinabete en la zona 11 d...</td>\n",
       "    </tr>\n",
       "    <tr>\n",
       "      <th>4</th>\n",
       "      <td>\\n\\n\\n\\n\\n\\t\\t\\t\\t\\tLa vacunación contra el co...</td>\n",
       "      <td>El regulador europeo aprueba vacuna Novavax en...</td>\n",
       "    </tr>\n",
       "    <tr>\n",
       "      <th>5</th>\n",
       "      <td>\\n\\n\\n\\n\\n\\n\\n\\n\\n\\n\\n\\n\\n\\n \\n\\nPobladores de...</td>\n",
       "      <td>Pobladores bloquean paso en ruta Interamerican...</td>\n",
       "    </tr>\n",
       "    <tr>\n",
       "      <th>6</th>\n",
       "      <td>\\n\\n\\n\\n\\n\\t\\t\\t\\t\\tChilean president-elect Ga...</td>\n",
       "      <td>Izquierdista Gabriel Boric será el próximo pre...</td>\n",
       "    </tr>\n",
       "    <tr>\n",
       "      <th>7</th>\n",
       "      <td>\\n\\n\\n\\n\\n\\t\\t\\t\\t\\tBomberos controlan incendi...</td>\n",
       "      <td>Una persona fallecida en explosión en coheterí...</td>\n",
       "    </tr>\n",
       "  </tbody>\n",
       "</table>\n",
       "</div>"
      ],
      "text/plain": [
       "                                                body  \\\n",
       "0  \\n\\n\\n\\n\\n\\n\\n\\n\\n\\n\\n\\n\\n\\n \\n\\n\\nCristhian R...   \n",
       "1  \\n\\n\\n\\n\\n\\n\\t\\t\\t\\t\\tUn soldado vigila un áre...   \n",
       "2  \\n\\n\\n\\n\\n\\t\\t\\t\\t\\tMario Antonio Espinoza Jim...   \n",
       "3  \\n\\n\\n\\n\\n\\t\\t\\t\\t\\tPinabete decomisado en la ...   \n",
       "4  \\n\\n\\n\\n\\n\\t\\t\\t\\t\\tLa vacunación contra el co...   \n",
       "5  \\n\\n\\n\\n\\n\\n\\n\\n\\n\\n\\n\\n\\n\\n \\n\\nPobladores de...   \n",
       "6  \\n\\n\\n\\n\\n\\t\\t\\t\\t\\tChilean president-elect Ga...   \n",
       "7  \\n\\n\\n\\n\\n\\t\\t\\t\\t\\tBomberos controlan incendi...   \n",
       "\n",
       "                                               title  \n",
       "0  Recapturan a Cristhian Rodríguez, reo que esca...  \n",
       "1  Pobladores de Santa Catarina Ixtahuacán bloque...  \n",
       "2  Capturan a hombre con fines de extradición a E...  \n",
       "3  Decomisan ramillas de pinabete en la zona 11 d...  \n",
       "4  El regulador europeo aprueba vacuna Novavax en...  \n",
       "5  Pobladores bloquean paso en ruta Interamerican...  \n",
       "6  Izquierdista Gabriel Boric será el próximo pre...  \n",
       "7  Una persona fallecida en explosión en coheterí...  "
      ]
     },
     "execution_count": 10,
     "metadata": {},
     "output_type": "execute_result"
    }
   ],
   "source": [
    "newspaper.loc[:, 'body':'title']"
   ]
  },
  {
   "cell_type": "markdown",
   "metadata": {},
   "source": [
    "## Data wrangling"
   ]
  },
  {
   "cell_type": "code",
   "execution_count": 11,
   "metadata": {},
   "outputs": [
    {
     "data": {
      "text/html": [
       "<div>\n",
       "<style scoped>\n",
       "    .dataframe tbody tr th:only-of-type {\n",
       "        vertical-align: middle;\n",
       "    }\n",
       "\n",
       "    .dataframe tbody tr th {\n",
       "        vertical-align: top;\n",
       "    }\n",
       "\n",
       "    .dataframe thead th {\n",
       "        text-align: right;\n",
       "    }\n",
       "</style>\n",
       "<table border=\"1\" class=\"dataframe\">\n",
       "  <thead>\n",
       "    <tr style=\"text-align: right;\">\n",
       "      <th></th>\n",
       "      <th>body</th>\n",
       "      <th>title</th>\n",
       "      <th>url</th>\n",
       "      <th>newspaper_uid</th>\n",
       "    </tr>\n",
       "  </thead>\n",
       "  <tbody>\n",
       "    <tr>\n",
       "      <th>0</th>\n",
       "      <td>\\n\\n\\n\\n\\n\\n\\n\\n\\n\\n\\n\\n\\n\\n \\n\\n\\nCristhian R...</td>\n",
       "      <td>Recapturan a Cristhian Rodríguez, reo que esca...</td>\n",
       "      <td>https://www.prensalibre.com/ahora/guatemala/ju...</td>\n",
       "      <td>prensalibre</td>\n",
       "    </tr>\n",
       "    <tr>\n",
       "      <th>1</th>\n",
       "      <td>\\n\\n\\n\\n\\n\\n\\t\\t\\t\\t\\tUn soldado vigila un áre...</td>\n",
       "      <td>Pobladores de Santa Catarina Ixtahuacán bloque...</td>\n",
       "      <td>https://www.prensalibre.com/ciudades/solola/po...</td>\n",
       "      <td>prensalibre</td>\n",
       "    </tr>\n",
       "    <tr>\n",
       "      <th>2</th>\n",
       "      <td>\\n\\n\\n\\n\\n\\t\\t\\t\\t\\tMario Antonio Espinoza Jim...</td>\n",
       "      <td>Capturan a hombre con fines de extradición a E...</td>\n",
       "      <td>https://www.prensalibre.com/ahora/guatemala/ju...</td>\n",
       "      <td>prensalibre</td>\n",
       "    </tr>\n",
       "    <tr>\n",
       "      <th>3</th>\n",
       "      <td>\\n\\n\\n\\n\\n\\t\\t\\t\\t\\tPinabete decomisado en la ...</td>\n",
       "      <td>Decomisan ramillas de pinabete en la zona 11 d...</td>\n",
       "      <td>https://www.prensalibre.com/ahora/guatemala/ju...</td>\n",
       "      <td>prensalibre</td>\n",
       "    </tr>\n",
       "    <tr>\n",
       "      <th>4</th>\n",
       "      <td>\\n\\n\\n\\n\\n\\t\\t\\t\\t\\tLa vacunación contra el co...</td>\n",
       "      <td>El regulador europeo aprueba vacuna Novavax en...</td>\n",
       "      <td>https://www.prensalibre.com/ahora/internaciona...</td>\n",
       "      <td>prensalibre</td>\n",
       "    </tr>\n",
       "    <tr>\n",
       "      <th>5</th>\n",
       "      <td>\\n\\n\\n\\n\\n\\n\\n\\n\\n\\n\\n\\n\\n\\n \\n\\nPobladores de...</td>\n",
       "      <td>Pobladores bloquean paso en ruta Interamerican...</td>\n",
       "      <td>https://www.prensalibre.com/ahora/ciudades/sol...</td>\n",
       "      <td>prensalibre</td>\n",
       "    </tr>\n",
       "    <tr>\n",
       "      <th>6</th>\n",
       "      <td>\\n\\n\\n\\n\\n\\t\\t\\t\\t\\tChilean president-elect Ga...</td>\n",
       "      <td>Izquierdista Gabriel Boric será el próximo pre...</td>\n",
       "      <td>https://www.prensalibre.com/ahora/uncategorize...</td>\n",
       "      <td>prensalibre</td>\n",
       "    </tr>\n",
       "    <tr>\n",
       "      <th>7</th>\n",
       "      <td>\\n\\n\\n\\n\\n\\t\\t\\t\\t\\tBomberos controlan incendi...</td>\n",
       "      <td>Una persona fallecida en explosión en coheterí...</td>\n",
       "      <td>https://www.prensalibre.com/ahora/ciudades/gua...</td>\n",
       "      <td>prensalibre</td>\n",
       "    </tr>\n",
       "  </tbody>\n",
       "</table>\n",
       "</div>"
      ],
      "text/plain": [
       "                                                body  \\\n",
       "0  \\n\\n\\n\\n\\n\\n\\n\\n\\n\\n\\n\\n\\n\\n \\n\\n\\nCristhian R...   \n",
       "1  \\n\\n\\n\\n\\n\\n\\t\\t\\t\\t\\tUn soldado vigila un áre...   \n",
       "2  \\n\\n\\n\\n\\n\\t\\t\\t\\t\\tMario Antonio Espinoza Jim...   \n",
       "3  \\n\\n\\n\\n\\n\\t\\t\\t\\t\\tPinabete decomisado en la ...   \n",
       "4  \\n\\n\\n\\n\\n\\t\\t\\t\\t\\tLa vacunación contra el co...   \n",
       "5  \\n\\n\\n\\n\\n\\n\\n\\n\\n\\n\\n\\n\\n\\n \\n\\nPobladores de...   \n",
       "6  \\n\\n\\n\\n\\n\\t\\t\\t\\t\\tChilean president-elect Ga...   \n",
       "7  \\n\\n\\n\\n\\n\\t\\t\\t\\t\\tBomberos controlan incendi...   \n",
       "\n",
       "                                               title  \\\n",
       "0  Recapturan a Cristhian Rodríguez, reo que esca...   \n",
       "1  Pobladores de Santa Catarina Ixtahuacán bloque...   \n",
       "2  Capturan a hombre con fines de extradición a E...   \n",
       "3  Decomisan ramillas de pinabete en la zona 11 d...   \n",
       "4  El regulador europeo aprueba vacuna Novavax en...   \n",
       "5  Pobladores bloquean paso en ruta Interamerican...   \n",
       "6  Izquierdista Gabriel Boric será el próximo pre...   \n",
       "7  Una persona fallecida en explosión en coheterí...   \n",
       "\n",
       "                                                 url newspaper_uid  \n",
       "0  https://www.prensalibre.com/ahora/guatemala/ju...   prensalibre  \n",
       "1  https://www.prensalibre.com/ciudades/solola/po...   prensalibre  \n",
       "2  https://www.prensalibre.com/ahora/guatemala/ju...   prensalibre  \n",
       "3  https://www.prensalibre.com/ahora/guatemala/ju...   prensalibre  \n",
       "4  https://www.prensalibre.com/ahora/internaciona...   prensalibre  \n",
       "5  https://www.prensalibre.com/ahora/ciudades/sol...   prensalibre  \n",
       "6  https://www.prensalibre.com/ahora/uncategorize...   prensalibre  \n",
       "7  https://www.prensalibre.com/ahora/ciudades/gua...   prensalibre  "
      ]
     },
     "execution_count": 11,
     "metadata": {},
     "output_type": "execute_result"
    }
   ],
   "source": [
    "# 1. Añadir newspaper_uid al DataFrame\n",
    "\n",
    "newspaper['newspaper_uid'] = 'prensalibre'\n",
    "\n",
    "newspaper"
   ]
  },
  {
   "cell_type": "code",
   "execution_count": 12,
   "metadata": {},
   "outputs": [
    {
     "data": {
      "text/html": [
       "<div>\n",
       "<style scoped>\n",
       "    .dataframe tbody tr th:only-of-type {\n",
       "        vertical-align: middle;\n",
       "    }\n",
       "\n",
       "    .dataframe tbody tr th {\n",
       "        vertical-align: top;\n",
       "    }\n",
       "\n",
       "    .dataframe thead th {\n",
       "        text-align: right;\n",
       "    }\n",
       "</style>\n",
       "<table border=\"1\" class=\"dataframe\">\n",
       "  <thead>\n",
       "    <tr style=\"text-align: right;\">\n",
       "      <th></th>\n",
       "      <th>body</th>\n",
       "      <th>title</th>\n",
       "      <th>url</th>\n",
       "      <th>newspaper_uid</th>\n",
       "      <th>host</th>\n",
       "    </tr>\n",
       "  </thead>\n",
       "  <tbody>\n",
       "    <tr>\n",
       "      <th>0</th>\n",
       "      <td>\\n\\n\\n\\n\\n\\n\\n\\n\\n\\n\\n\\n\\n\\n \\n\\n\\nCristhian R...</td>\n",
       "      <td>Recapturan a Cristhian Rodríguez, reo que esca...</td>\n",
       "      <td>https://www.prensalibre.com/ahora/guatemala/ju...</td>\n",
       "      <td>prensalibre</td>\n",
       "      <td>www.prensalibre.com</td>\n",
       "    </tr>\n",
       "    <tr>\n",
       "      <th>1</th>\n",
       "      <td>\\n\\n\\n\\n\\n\\n\\t\\t\\t\\t\\tUn soldado vigila un áre...</td>\n",
       "      <td>Pobladores de Santa Catarina Ixtahuacán bloque...</td>\n",
       "      <td>https://www.prensalibre.com/ciudades/solola/po...</td>\n",
       "      <td>prensalibre</td>\n",
       "      <td>www.prensalibre.com</td>\n",
       "    </tr>\n",
       "    <tr>\n",
       "      <th>2</th>\n",
       "      <td>\\n\\n\\n\\n\\n\\t\\t\\t\\t\\tMario Antonio Espinoza Jim...</td>\n",
       "      <td>Capturan a hombre con fines de extradición a E...</td>\n",
       "      <td>https://www.prensalibre.com/ahora/guatemala/ju...</td>\n",
       "      <td>prensalibre</td>\n",
       "      <td>www.prensalibre.com</td>\n",
       "    </tr>\n",
       "    <tr>\n",
       "      <th>3</th>\n",
       "      <td>\\n\\n\\n\\n\\n\\t\\t\\t\\t\\tPinabete decomisado en la ...</td>\n",
       "      <td>Decomisan ramillas de pinabete en la zona 11 d...</td>\n",
       "      <td>https://www.prensalibre.com/ahora/guatemala/ju...</td>\n",
       "      <td>prensalibre</td>\n",
       "      <td>www.prensalibre.com</td>\n",
       "    </tr>\n",
       "    <tr>\n",
       "      <th>4</th>\n",
       "      <td>\\n\\n\\n\\n\\n\\t\\t\\t\\t\\tLa vacunación contra el co...</td>\n",
       "      <td>El regulador europeo aprueba vacuna Novavax en...</td>\n",
       "      <td>https://www.prensalibre.com/ahora/internaciona...</td>\n",
       "      <td>prensalibre</td>\n",
       "      <td>www.prensalibre.com</td>\n",
       "    </tr>\n",
       "    <tr>\n",
       "      <th>5</th>\n",
       "      <td>\\n\\n\\n\\n\\n\\n\\n\\n\\n\\n\\n\\n\\n\\n \\n\\nPobladores de...</td>\n",
       "      <td>Pobladores bloquean paso en ruta Interamerican...</td>\n",
       "      <td>https://www.prensalibre.com/ahora/ciudades/sol...</td>\n",
       "      <td>prensalibre</td>\n",
       "      <td>www.prensalibre.com</td>\n",
       "    </tr>\n",
       "    <tr>\n",
       "      <th>6</th>\n",
       "      <td>\\n\\n\\n\\n\\n\\t\\t\\t\\t\\tChilean president-elect Ga...</td>\n",
       "      <td>Izquierdista Gabriel Boric será el próximo pre...</td>\n",
       "      <td>https://www.prensalibre.com/ahora/uncategorize...</td>\n",
       "      <td>prensalibre</td>\n",
       "      <td>www.prensalibre.com</td>\n",
       "    </tr>\n",
       "    <tr>\n",
       "      <th>7</th>\n",
       "      <td>\\n\\n\\n\\n\\n\\t\\t\\t\\t\\tBomberos controlan incendi...</td>\n",
       "      <td>Una persona fallecida en explosión en coheterí...</td>\n",
       "      <td>https://www.prensalibre.com/ahora/ciudades/gua...</td>\n",
       "      <td>prensalibre</td>\n",
       "      <td>www.prensalibre.com</td>\n",
       "    </tr>\n",
       "  </tbody>\n",
       "</table>\n",
       "</div>"
      ],
      "text/plain": [
       "                                                body  \\\n",
       "0  \\n\\n\\n\\n\\n\\n\\n\\n\\n\\n\\n\\n\\n\\n \\n\\n\\nCristhian R...   \n",
       "1  \\n\\n\\n\\n\\n\\n\\t\\t\\t\\t\\tUn soldado vigila un áre...   \n",
       "2  \\n\\n\\n\\n\\n\\t\\t\\t\\t\\tMario Antonio Espinoza Jim...   \n",
       "3  \\n\\n\\n\\n\\n\\t\\t\\t\\t\\tPinabete decomisado en la ...   \n",
       "4  \\n\\n\\n\\n\\n\\t\\t\\t\\t\\tLa vacunación contra el co...   \n",
       "5  \\n\\n\\n\\n\\n\\n\\n\\n\\n\\n\\n\\n\\n\\n \\n\\nPobladores de...   \n",
       "6  \\n\\n\\n\\n\\n\\t\\t\\t\\t\\tChilean president-elect Ga...   \n",
       "7  \\n\\n\\n\\n\\n\\t\\t\\t\\t\\tBomberos controlan incendi...   \n",
       "\n",
       "                                               title  \\\n",
       "0  Recapturan a Cristhian Rodríguez, reo que esca...   \n",
       "1  Pobladores de Santa Catarina Ixtahuacán bloque...   \n",
       "2  Capturan a hombre con fines de extradición a E...   \n",
       "3  Decomisan ramillas de pinabete en la zona 11 d...   \n",
       "4  El regulador europeo aprueba vacuna Novavax en...   \n",
       "5  Pobladores bloquean paso en ruta Interamerican...   \n",
       "6  Izquierdista Gabriel Boric será el próximo pre...   \n",
       "7  Una persona fallecida en explosión en coheterí...   \n",
       "\n",
       "                                                 url newspaper_uid  \\\n",
       "0  https://www.prensalibre.com/ahora/guatemala/ju...   prensalibre   \n",
       "1  https://www.prensalibre.com/ciudades/solola/po...   prensalibre   \n",
       "2  https://www.prensalibre.com/ahora/guatemala/ju...   prensalibre   \n",
       "3  https://www.prensalibre.com/ahora/guatemala/ju...   prensalibre   \n",
       "4  https://www.prensalibre.com/ahora/internaciona...   prensalibre   \n",
       "5  https://www.prensalibre.com/ahora/ciudades/sol...   prensalibre   \n",
       "6  https://www.prensalibre.com/ahora/uncategorize...   prensalibre   \n",
       "7  https://www.prensalibre.com/ahora/ciudades/gua...   prensalibre   \n",
       "\n",
       "                  host  \n",
       "0  www.prensalibre.com  \n",
       "1  www.prensalibre.com  \n",
       "2  www.prensalibre.com  \n",
       "3  www.prensalibre.com  \n",
       "4  www.prensalibre.com  \n",
       "5  www.prensalibre.com  \n",
       "6  www.prensalibre.com  \n",
       "7  www.prensalibre.com  "
      ]
     },
     "execution_count": 12,
     "metadata": {},
     "output_type": "execute_result"
    }
   ],
   "source": [
    "# 2. Obtener el host\n",
    "from urllib.parse import urlparse\n",
    "\n",
    "newspaper['host'] = newspaper['url'].apply(lambda url: urlparse(url).netloc)\n",
    "\n",
    "newspaper"
   ]
  },
  {
   "cell_type": "code",
   "execution_count": 13,
   "metadata": {},
   "outputs": [
    {
     "data": {
      "text/plain": [
       "www.prensalibre.com    8\n",
       "Name: host, dtype: int64"
      ]
     },
     "execution_count": 13,
     "metadata": {},
     "output_type": "execute_result"
    }
   ],
   "source": [
    "newspaper['host'].value_counts()"
   ]
  },
  {
   "cell_type": "markdown",
   "metadata": {},
   "source": [
    "## Missing data"
   ]
  },
  {
   "cell_type": "code",
   "execution_count": 14,
   "metadata": {},
   "outputs": [
    {
     "data": {
      "text/plain": [
       "0    False\n",
       "1    False\n",
       "2    False\n",
       "3    False\n",
       "4    False\n",
       "5    False\n",
       "6    False\n",
       "7    False\n",
       "Name: title, dtype: bool"
      ]
     },
     "execution_count": 14,
     "metadata": {},
     "output_type": "execute_result"
    }
   ],
   "source": [
    "# 3. Rellenar datos faltantes\n",
    "\n",
    "missing_titles_mask = newspaper['title'].isna()\n",
    "\n",
    "missing_titles_mask"
   ]
  },
  {
   "cell_type": "markdown",
   "metadata": {},
   "source": [
    "## Additional cleanup"
   ]
  },
  {
   "cell_type": "code",
   "execution_count": 16,
   "metadata": {},
   "outputs": [
    {
     "data": {
      "text/html": [
       "<div>\n",
       "<style scoped>\n",
       "    .dataframe tbody tr th:only-of-type {\n",
       "        vertical-align: middle;\n",
       "    }\n",
       "\n",
       "    .dataframe tbody tr th {\n",
       "        vertical-align: top;\n",
       "    }\n",
       "\n",
       "    .dataframe thead th {\n",
       "        text-align: right;\n",
       "    }\n",
       "</style>\n",
       "<table border=\"1\" class=\"dataframe\">\n",
       "  <thead>\n",
       "    <tr style=\"text-align: right;\">\n",
       "      <th></th>\n",
       "      <th>body</th>\n",
       "      <th>title</th>\n",
       "      <th>url</th>\n",
       "      <th>newspaper_uid</th>\n",
       "      <th>host</th>\n",
       "    </tr>\n",
       "    <tr>\n",
       "      <th>uid</th>\n",
       "      <th></th>\n",
       "      <th></th>\n",
       "      <th></th>\n",
       "      <th></th>\n",
       "      <th></th>\n",
       "    </tr>\n",
       "  </thead>\n",
       "  <tbody>\n",
       "    <tr>\n",
       "      <th>afee970a79ea013f6e7b30af6a2de0d4</th>\n",
       "      <td>\\n\\n\\n\\n\\n\\n\\n\\n\\n\\n\\n\\n\\n\\n \\n\\n\\nCristhian R...</td>\n",
       "      <td>Recapturan a Cristhian Rodríguez, reo que esca...</td>\n",
       "      <td>https://www.prensalibre.com/ahora/guatemala/ju...</td>\n",
       "      <td>prensalibre</td>\n",
       "      <td>www.prensalibre.com</td>\n",
       "    </tr>\n",
       "    <tr>\n",
       "      <th>1f659f23c4b2ba06e5a0d72d3bf69044</th>\n",
       "      <td>\\n\\n\\n\\n\\n\\n\\t\\t\\t\\t\\tUn soldado vigila un áre...</td>\n",
       "      <td>Pobladores de Santa Catarina Ixtahuacán bloque...</td>\n",
       "      <td>https://www.prensalibre.com/ciudades/solola/po...</td>\n",
       "      <td>prensalibre</td>\n",
       "      <td>www.prensalibre.com</td>\n",
       "    </tr>\n",
       "    <tr>\n",
       "      <th>acb16e876a5e35479842af1ce2b1ab9b</th>\n",
       "      <td>\\n\\n\\n\\n\\n\\t\\t\\t\\t\\tMario Antonio Espinoza Jim...</td>\n",
       "      <td>Capturan a hombre con fines de extradición a E...</td>\n",
       "      <td>https://www.prensalibre.com/ahora/guatemala/ju...</td>\n",
       "      <td>prensalibre</td>\n",
       "      <td>www.prensalibre.com</td>\n",
       "    </tr>\n",
       "    <tr>\n",
       "      <th>3f3a68d82b60a105d0c25384ce822616</th>\n",
       "      <td>\\n\\n\\n\\n\\n\\t\\t\\t\\t\\tPinabete decomisado en la ...</td>\n",
       "      <td>Decomisan ramillas de pinabete en la zona 11 d...</td>\n",
       "      <td>https://www.prensalibre.com/ahora/guatemala/ju...</td>\n",
       "      <td>prensalibre</td>\n",
       "      <td>www.prensalibre.com</td>\n",
       "    </tr>\n",
       "    <tr>\n",
       "      <th>4373a52fa45ced05be9798bf3e574afb</th>\n",
       "      <td>\\n\\n\\n\\n\\n\\t\\t\\t\\t\\tLa vacunación contra el co...</td>\n",
       "      <td>El regulador europeo aprueba vacuna Novavax en...</td>\n",
       "      <td>https://www.prensalibre.com/ahora/internaciona...</td>\n",
       "      <td>prensalibre</td>\n",
       "      <td>www.prensalibre.com</td>\n",
       "    </tr>\n",
       "    <tr>\n",
       "      <th>1061ee1f6f4d64d7310d836b28c6ee02</th>\n",
       "      <td>\\n\\n\\n\\n\\n\\n\\n\\n\\n\\n\\n\\n\\n\\n \\n\\nPobladores de...</td>\n",
       "      <td>Pobladores bloquean paso en ruta Interamerican...</td>\n",
       "      <td>https://www.prensalibre.com/ahora/ciudades/sol...</td>\n",
       "      <td>prensalibre</td>\n",
       "      <td>www.prensalibre.com</td>\n",
       "    </tr>\n",
       "    <tr>\n",
       "      <th>0e129540fef53f92127fb3f8aad77c1e</th>\n",
       "      <td>\\n\\n\\n\\n\\n\\t\\t\\t\\t\\tChilean president-elect Ga...</td>\n",
       "      <td>Izquierdista Gabriel Boric será el próximo pre...</td>\n",
       "      <td>https://www.prensalibre.com/ahora/uncategorize...</td>\n",
       "      <td>prensalibre</td>\n",
       "      <td>www.prensalibre.com</td>\n",
       "    </tr>\n",
       "    <tr>\n",
       "      <th>1b8fcaf4fc8eeee6ebdd8a96c22e74ab</th>\n",
       "      <td>\\n\\n\\n\\n\\n\\t\\t\\t\\t\\tBomberos controlan incendi...</td>\n",
       "      <td>Una persona fallecida en explosión en coheterí...</td>\n",
       "      <td>https://www.prensalibre.com/ahora/ciudades/gua...</td>\n",
       "      <td>prensalibre</td>\n",
       "      <td>www.prensalibre.com</td>\n",
       "    </tr>\n",
       "  </tbody>\n",
       "</table>\n",
       "</div>"
      ],
      "text/plain": [
       "                                                                               body  \\\n",
       "uid                                                                                   \n",
       "afee970a79ea013f6e7b30af6a2de0d4  \\n\\n\\n\\n\\n\\n\\n\\n\\n\\n\\n\\n\\n\\n \\n\\n\\nCristhian R...   \n",
       "1f659f23c4b2ba06e5a0d72d3bf69044  \\n\\n\\n\\n\\n\\n\\t\\t\\t\\t\\tUn soldado vigila un áre...   \n",
       "acb16e876a5e35479842af1ce2b1ab9b  \\n\\n\\n\\n\\n\\t\\t\\t\\t\\tMario Antonio Espinoza Jim...   \n",
       "3f3a68d82b60a105d0c25384ce822616  \\n\\n\\n\\n\\n\\t\\t\\t\\t\\tPinabete decomisado en la ...   \n",
       "4373a52fa45ced05be9798bf3e574afb  \\n\\n\\n\\n\\n\\t\\t\\t\\t\\tLa vacunación contra el co...   \n",
       "1061ee1f6f4d64d7310d836b28c6ee02  \\n\\n\\n\\n\\n\\n\\n\\n\\n\\n\\n\\n\\n\\n \\n\\nPobladores de...   \n",
       "0e129540fef53f92127fb3f8aad77c1e  \\n\\n\\n\\n\\n\\t\\t\\t\\t\\tChilean president-elect Ga...   \n",
       "1b8fcaf4fc8eeee6ebdd8a96c22e74ab  \\n\\n\\n\\n\\n\\t\\t\\t\\t\\tBomberos controlan incendi...   \n",
       "\n",
       "                                                                              title  \\\n",
       "uid                                                                                   \n",
       "afee970a79ea013f6e7b30af6a2de0d4  Recapturan a Cristhian Rodríguez, reo que esca...   \n",
       "1f659f23c4b2ba06e5a0d72d3bf69044  Pobladores de Santa Catarina Ixtahuacán bloque...   \n",
       "acb16e876a5e35479842af1ce2b1ab9b  Capturan a hombre con fines de extradición a E...   \n",
       "3f3a68d82b60a105d0c25384ce822616  Decomisan ramillas de pinabete en la zona 11 d...   \n",
       "4373a52fa45ced05be9798bf3e574afb  El regulador europeo aprueba vacuna Novavax en...   \n",
       "1061ee1f6f4d64d7310d836b28c6ee02  Pobladores bloquean paso en ruta Interamerican...   \n",
       "0e129540fef53f92127fb3f8aad77c1e  Izquierdista Gabriel Boric será el próximo pre...   \n",
       "1b8fcaf4fc8eeee6ebdd8a96c22e74ab  Una persona fallecida en explosión en coheterí...   \n",
       "\n",
       "                                                                                url  \\\n",
       "uid                                                                                   \n",
       "afee970a79ea013f6e7b30af6a2de0d4  https://www.prensalibre.com/ahora/guatemala/ju...   \n",
       "1f659f23c4b2ba06e5a0d72d3bf69044  https://www.prensalibre.com/ciudades/solola/po...   \n",
       "acb16e876a5e35479842af1ce2b1ab9b  https://www.prensalibre.com/ahora/guatemala/ju...   \n",
       "3f3a68d82b60a105d0c25384ce822616  https://www.prensalibre.com/ahora/guatemala/ju...   \n",
       "4373a52fa45ced05be9798bf3e574afb  https://www.prensalibre.com/ahora/internaciona...   \n",
       "1061ee1f6f4d64d7310d836b28c6ee02  https://www.prensalibre.com/ahora/ciudades/sol...   \n",
       "0e129540fef53f92127fb3f8aad77c1e  https://www.prensalibre.com/ahora/uncategorize...   \n",
       "1b8fcaf4fc8eeee6ebdd8a96c22e74ab  https://www.prensalibre.com/ahora/ciudades/gua...   \n",
       "\n",
       "                                 newspaper_uid                 host  \n",
       "uid                                                                  \n",
       "afee970a79ea013f6e7b30af6a2de0d4   prensalibre  www.prensalibre.com  \n",
       "1f659f23c4b2ba06e5a0d72d3bf69044   prensalibre  www.prensalibre.com  \n",
       "acb16e876a5e35479842af1ce2b1ab9b   prensalibre  www.prensalibre.com  \n",
       "3f3a68d82b60a105d0c25384ce822616   prensalibre  www.prensalibre.com  \n",
       "4373a52fa45ced05be9798bf3e574afb   prensalibre  www.prensalibre.com  \n",
       "1061ee1f6f4d64d7310d836b28c6ee02   prensalibre  www.prensalibre.com  \n",
       "0e129540fef53f92127fb3f8aad77c1e   prensalibre  www.prensalibre.com  \n",
       "1b8fcaf4fc8eeee6ebdd8a96c22e74ab   prensalibre  www.prensalibre.com  "
      ]
     },
     "execution_count": 16,
     "metadata": {},
     "output_type": "execute_result"
    }
   ],
   "source": [
    "# 4. añadir uid a las filas\n",
    "\n",
    "import hashlib\n",
    "\n",
    "uids = (newspaper\n",
    "            .apply(lambda row: hashlib.md5(bytes(row['url'].encode())), axis=1)\n",
    "            .apply(lambda hash_object: hash_object.hexdigest())\n",
    ")\n",
    "\n",
    "newspaper['uid'] = uids\n",
    "newspaper.set_index('uid', inplace=True)\n",
    "\n",
    "newspaper"
   ]
  },
  {
   "cell_type": "code",
   "execution_count": 25,
   "metadata": {},
   "outputs": [
    {
     "data": {
      "text/plain": [
       "uid\n",
       "afee970a79ea013f6e7b30af6a2de0d4     Cristhian Renato Rodríguez Gallardo fue recap...\n",
       "1f659f23c4b2ba06e5a0d72d3bf69044    Un soldado vigila un área cercana a la aldea C...\n",
       "acb16e876a5e35479842af1ce2b1ab9b    Mario Antonio Espinoza Jiménez fue capturado e...\n",
       "3f3a68d82b60a105d0c25384ce822616    Pinabete decomisado en la zona 11 de la capita...\n",
       "4373a52fa45ced05be9798bf3e574afb    La vacunación contra el covid-19 avanza en el ...\n",
       "1061ee1f6f4d64d7310d836b28c6ee02     Pobladores de Santa Catarina Ixtahuacán, Solo...\n",
       "0e129540fef53f92127fb3f8aad77c1e    Chilean president-elect Gabriel Boric addresse...\n",
       "1b8fcaf4fc8eeee6ebdd8a96c22e74ab    Bomberos controlan incendio en cohetería en la...\n",
       "dtype: object"
      ]
     },
     "execution_count": 25,
     "metadata": {},
     "output_type": "execute_result"
    }
   ],
   "source": [
    "# 5. limpiar body\n",
    "\n",
    "stripped_body = (newspaper\n",
    "                    .apply(lambda row: row['body'], axis=1)\n",
    "                    .apply(lambda body: list(body))\n",
    "                    .apply(lambda letters: list(map(lambda letter: letter.replace('\\n', ''), letters)))\n",
    "                    .apply(lambda letters: list(map(lambda letter: letter.replace('\\t', ''), letters)))\n",
    "                    .apply(lambda letters: ''.join(letters))\n",
    ")\n",
    "\n",
    "stripped_body"
   ]
  },
  {
   "cell_type": "markdown",
   "metadata": {},
   "source": [
    "## Data enrichment"
   ]
  },
  {
   "cell_type": "code",
   "execution_count": 31,
   "metadata": {},
   "outputs": [],
   "source": [
    "# 6. tokenizar el titulo y el body\n",
    "\n",
    "# nltk.download('punkt')\n",
    "# nltk.download('stopwords)\n",
    "\n",
    "import nltk\n",
    "from nltk.corpus import stopwords\n"
   ]
  },
  {
   "cell_type": "markdown",
   "metadata": {},
   "source": [
    "## Duplicate values"
   ]
  },
  {
   "cell_type": "code",
   "execution_count": null,
   "metadata": {},
   "outputs": [],
   "source": []
  },
  {
   "cell_type": "markdown",
   "metadata": {},
   "source": [
    "## Final table"
   ]
  },
  {
   "cell_type": "code",
   "execution_count": null,
   "metadata": {},
   "outputs": [],
   "source": []
  }
 ],
 "metadata": {
  "hide_input": false,
  "kernelspec": {
   "display_name": "Python 3 (ipykernel)",
   "language": "python",
   "name": "python3"
  },
  "language_info": {
   "codemirror_mode": {
    "name": "ipython",
    "version": 3
   },
   "file_extension": ".py",
   "mimetype": "text/x-python",
   "name": "python",
   "nbconvert_exporter": "python",
   "pygments_lexer": "ipython3",
   "version": "3.9.6"
  }
 },
 "nbformat": 4,
 "nbformat_minor": 4
}
